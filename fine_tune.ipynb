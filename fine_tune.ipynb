{
 "cells": [
  {
   "cell_type": "code",
   "execution_count": 3,
   "id": "b7bd8fa2-4490-4f96-846e-e112523397ca",
   "metadata": {},
   "outputs": [],
   "source": [
    "import os\n",
    "from dotenv import load_dotenv\n",
    "import pandas as pd\n",
    "import json\n",
    "\n",
    "from predibase import PredibaseClient\n",
    "from neo4j import GraphDatabase, RoutingControl"
   ]
  },
  {
   "cell_type": "code",
   "execution_count": 4,
   "id": "069d2b4c-d68d-461a-a79d-fba967f398a7",
   "metadata": {},
   "outputs": [],
   "source": [
    "neo4j_uri = os.environ.get('NEO4J_URI')\n",
    "neo4j_username = os.environ.get('NEO4J_USERNAME')\n",
    "neo4j_password = os.environ.get('NEO4J_PASSWORD')\n",
    "neo4j_auth =  (neo4j_username, neo4j_password)"
   ]
  },
  {
   "cell_type": "code",
   "execution_count": 5,
   "id": "12e3374e-7afb-49f5-a2e6-58903836a617",
   "metadata": {},
   "outputs": [],
   "source": [
    "open_ai_api_key = os.environ.get('OPENAI_API_KEY')"
   ]
  },
  {
   "cell_type": "code",
   "execution_count": 6,
   "id": "af034b1a-eb44-4975-912d-298db177929f",
   "metadata": {},
   "outputs": [
    {
     "data": {
      "text/html": [
       "<pre style=\"white-space:pre;overflow-x:auto;line-height:normal;font-family:Menlo,'DejaVu Sans Mono',consolas,'Courier New',monospace\"><span style=\"color: #000080; text-decoration-color: #000080; font-weight: bold\">Connected to Predibase as </span><span style=\"color: #800080; text-decoration-color: #800080; font-weight: bold\">User</span><span style=\"color: #000080; text-decoration-color: #000080; font-weight: bold\">(</span><span style=\"color: #808000; text-decoration-color: #808000; font-weight: bold\">id</span><span style=\"color: #000080; text-decoration-color: #000080; font-weight: bold\">=</span><span style=\"color: #ffff00; text-decoration-color: #ffff00\">c9b679d1</span><span style=\"color: #ffff00; text-decoration-color: #ffff00\">-9a79-4f8f-a1b5-09ec5cf7d435</span><span style=\"color: #000080; text-decoration-color: #000080; font-weight: bold\">, </span><span style=\"color: #808000; text-decoration-color: #808000; font-weight: bold\">username</span><span style=\"color: #000080; text-decoration-color: #000080; font-weight: bold\">=</span><span style=\"color: #800080; text-decoration-color: #800080; font-weight: bold\">oseh</span><span style=\"color: #000080; text-decoration-color: #000080; font-weight: bold\">@superfeel.com)</span>\n",
       "</pre>\n"
      ],
      "text/plain": [
       "\u001b[1;34mConnected to Predibase as \u001b[0m\u001b[1;35mUser\u001b[0m\u001b[1;34m(\u001b[0m\u001b[1;33mid\u001b[0m\u001b[1;34m=\u001b[0m\u001b[93mc9b679d1\u001b[0m\u001b[93m-9a79-4f8f-a1b5-09ec5cf7d435\u001b[0m\u001b[1;34m, \u001b[0m\u001b[1;33musername\u001b[0m\u001b[1;34m=\u001b[0m\u001b[1;35moseh\u001b[0m\u001b[1;34m@superfeel.com\u001b[0m\u001b[1;34m)\u001b[0m\n"
      ]
     },
     "metadata": {},
     "output_type": "display_data"
    }
   ],
   "source": [
    "pc = PredibaseClient()\n",
    "driver = GraphDatabase.driver(neo4j_uri, auth=(neo4j_auth))"
   ]
  },
  {
   "cell_type": "code",
   "execution_count": 7,
   "id": "ef8d52ab-77fd-4e09-bfe6-8ff0467351f2",
   "metadata": {},
   "outputs": [],
   "source": [
    "# helper function to execute the predibase driver\n",
    "\n",
    "def execute_query(driver, query):\n",
    "    with driver.session() as session:\n",
    "        def _execute(tx):\n",
    "            result = tx.run(query)\n",
    "            return [record.data() for record in result]\n",
    "        return session.execute_read(_execute)"
   ]
  },
  {
   "cell_type": "markdown",
   "id": "2a425b51-ef21-451e-bb05-7452e7f52651",
   "metadata": {},
   "source": [
    "#### Load and preview training data\n",
    "\n",
    "Using the training data created synthetically using `generate_synthetic_data`directory in this repository."
   ]
  },
  {
   "cell_type": "code",
   "execution_count": 8,
   "id": "984d537e-0b7e-4b18-9356-bfebc1e9a4ac",
   "metadata": {},
   "outputs": [],
   "source": [
    "training_data = 'training-data-twitter.csv'\n",
    "df = pd.read_csv(training_data)"
   ]
  },
  {
   "cell_type": "code",
   "execution_count": 9,
   "id": "4f0a4248-bec7-4bf4-960e-e9607f5fa5d0",
   "metadata": {},
   "outputs": [
    {
     "name": "stdout",
     "output_type": "stream",
     "text": [
      "Number of rows: 1838\n"
     ]
    }
   ],
   "source": [
    "print(f\"Number of rows: {len(df)}\")"
   ]
  },
  {
   "cell_type": "code",
   "execution_count": 10,
   "id": "5c74b65f-f3a1-4147-b085-8ab521ac8bd5",
   "metadata": {},
   "outputs": [
    {
     "data": {
      "text/html": [
       "<div>\n",
       "<style scoped>\n",
       "    .dataframe tbody tr th:only-of-type {\n",
       "        vertical-align: middle;\n",
       "    }\n",
       "\n",
       "    .dataframe tbody tr th {\n",
       "        vertical-align: top;\n",
       "    }\n",
       "\n",
       "    .dataframe thead th {\n",
       "        text-align: right;\n",
       "    }\n",
       "</style>\n",
       "<table border=\"1\" class=\"dataframe\">\n",
       "  <thead>\n",
       "    <tr style=\"text-align: right;\">\n",
       "      <th></th>\n",
       "      <th>instruction</th>\n",
       "      <th>input</th>\n",
       "      <th>output</th>\n",
       "    </tr>\n",
       "  </thead>\n",
       "  <tbody>\n",
       "    <tr>\n",
       "      <th>0</th>\n",
       "      <td>Given this schema, write a Cypher query that r...</td>\n",
       "      <td>I am neo4j. Excluding common stop words in Eng...</td>\n",
       "      <td>MATCH (n:User {screen_name: 'neo4j'})-[:POSTS]...</td>\n",
       "    </tr>\n",
       "    <tr>\n",
       "      <th>1</th>\n",
       "      <td>Given this schema, write a Cypher query that r...</td>\n",
       "      <td>I am neo4j. What are the most common words in ...</td>\n",
       "      <td>MATCH (n:User {screen_name: 'neo4j'})-[:POSTS]...</td>\n",
       "    </tr>\n",
       "    <tr>\n",
       "      <th>2</th>\n",
       "      <td>Given this schema, write a Cypher query that r...</td>\n",
       "      <td>I am neo4j. Identify frequently used words in ...</td>\n",
       "      <td>MATCH (n:User {screen_name: 'neo4j'})-[:POSTS]...</td>\n",
       "    </tr>\n",
       "    <tr>\n",
       "      <th>3</th>\n",
       "      <td>Given this schema, write a Cypher query that r...</td>\n",
       "      <td>I am neo4j. Show the top words from my favorit...</td>\n",
       "      <td>MATCH (n:User {screen_name: 'neo4j'})-[:POSTS]...</td>\n",
       "    </tr>\n",
       "    <tr>\n",
       "      <th>4</th>\n",
       "      <td>Given this schema, write a Cypher query that r...</td>\n",
       "      <td>I am neo4j. List the significant words in twee...</td>\n",
       "      <td>MATCH (n:User {screen_name: 'neo4j'})-[:POSTS]...</td>\n",
       "    </tr>\n",
       "  </tbody>\n",
       "</table>\n",
       "</div>"
      ],
      "text/plain": [
       "                                         instruction  \\\n",
       "0  Given this schema, write a Cypher query that r...   \n",
       "1  Given this schema, write a Cypher query that r...   \n",
       "2  Given this schema, write a Cypher query that r...   \n",
       "3  Given this schema, write a Cypher query that r...   \n",
       "4  Given this schema, write a Cypher query that r...   \n",
       "\n",
       "                                               input  \\\n",
       "0  I am neo4j. Excluding common stop words in Eng...   \n",
       "1  I am neo4j. What are the most common words in ...   \n",
       "2  I am neo4j. Identify frequently used words in ...   \n",
       "3  I am neo4j. Show the top words from my favorit...   \n",
       "4  I am neo4j. List the significant words in twee...   \n",
       "\n",
       "                                              output  \n",
       "0  MATCH (n:User {screen_name: 'neo4j'})-[:POSTS]...  \n",
       "1  MATCH (n:User {screen_name: 'neo4j'})-[:POSTS]...  \n",
       "2  MATCH (n:User {screen_name: 'neo4j'})-[:POSTS]...  \n",
       "3  MATCH (n:User {screen_name: 'neo4j'})-[:POSTS]...  \n",
       "4  MATCH (n:User {screen_name: 'neo4j'})-[:POSTS]...  "
      ]
     },
     "metadata": {},
     "output_type": "display_data"
    }
   ],
   "source": [
    "display(df.head())"
   ]
  },
  {
   "cell_type": "markdown",
   "id": "945f9a4b-9c49-42d0-acd8-06cdfc653bfd",
   "metadata": {},
   "source": [
    "#### Upload training data to Predibase"
   ]
  },
  {
   "cell_type": "code",
   "execution_count": 11,
   "id": "1e9ae528-2255-4979-82b6-d9c910fcd89f",
   "metadata": {},
   "outputs": [
    {
     "name": "stdout",
     "output_type": "stream",
     "text": [
      "Dataset name was not explicitly provided. Defaulting to: training-data-twitter_1_2_3_4_5_6\n",
      "Uploading dataset...\n",
      "Dataset uploaded.\n"
     ]
    }
   ],
   "source": [
    "dataset = pc.upload_dataset(training_data)"
   ]
  },
  {
   "cell_type": "markdown",
   "id": "66da14da-976b-49ed-b15e-b2f614bb15af",
   "metadata": {},
   "source": [
    "#### Configure and start the training job"
   ]
  },
  {
   "cell_type": "code",
   "execution_count": 12,
   "id": "1ffbee44-4457-4cae-ba20-8a9874e5c75d",
   "metadata": {},
   "outputs": [],
   "source": [
    "# Defines the template used to prompt the model for each example\n",
    "\n",
    "prompt_template = \"\"\"Below is an instruction that describes a task, paired with an input\n",
    "    that may provide further context. Write a response that appropriately\n",
    "    completes the request.\n",
    "\n",
    "    ### Instruction: {instruction}\n",
    "\n",
    "    ### Input: {input}\n",
    "\n",
    "    ### Response:\n",
    "\"\"\""
   ]
  },
  {
   "cell_type": "code",
   "execution_count": 13,
   "id": "fe492e64-f6b7-4fce-8a99-3c075e925ad2",
   "metadata": {},
   "outputs": [
    {
     "data": {
      "text/html": [
       "<pre style=\"white-space:pre;overflow-x:auto;line-height:normal;font-family:Menlo,'DejaVu Sans Mono',consolas,'Courier New',monospace\"><span style=\"color: #000080; text-decoration-color: #000080; font-weight: bold\">Created model repository: &lt;</span><span style=\"color: #ff00ff; text-decoration-color: #ff00ff; font-weight: bold\">Llama-</span><span style=\"color: #008080; text-decoration-color: #008080; font-weight: bold\">2</span><span style=\"color: #ff00ff; text-decoration-color: #ff00ff; font-weight: bold\">-7b-hf-training-data-twitter_1_2_3_4_5_6</span><span style=\"color: #000080; text-decoration-color: #000080; font-weight: bold\">&gt;</span>\n",
       "</pre>\n"
      ],
      "text/plain": [
       "\u001b[1;34mCreated model repository: \u001b[0m\u001b[1;34m<\u001b[0m\u001b[1;95mLlama-\u001b[0m\u001b[1;36m2\u001b[0m\u001b[1;95m-7b-hf-training-data-twitter_1_2_3_4_5_6\u001b[0m\u001b[1;34m>\u001b[0m\n"
      ]
     },
     "metadata": {},
     "output_type": "display_data"
    },
    {
     "data": {
      "text/html": [
       "<pre style=\"white-space:pre;overflow-x:auto;line-height:normal;font-family:Menlo,'DejaVu Sans Mono',consolas,'Courier New',monospace\"><span style=\"color: #000080; text-decoration-color: #000080; font-weight: bold\">Check Status of Model Training Here: </span><a href=\"https://app.predibase.com/models/version/14315\" target=\"_blank\"><span style=\"color: #0000ff; text-decoration-color: #0000ff; text-decoration: underline\">https://app.predibase.com/models/version/14315</span></a>\n",
       "</pre>\n"
      ],
      "text/plain": [
       "\u001b[1;34mCheck Status of Model Training Here: \u001b[0m\u001b]8;id=417120;https://app.predibase.com/models/version/14315\u001b\\\u001b[4;94mhttps://app.predibase.com/models/version/14315\u001b[0m\u001b]8;;\u001b\\\n"
      ]
     },
     "metadata": {},
     "output_type": "display_data"
    },
    {
     "data": {
      "text/html": [
       "<pre style=\"white-space:pre;overflow-x:auto;line-height:normal;font-family:Menlo,'DejaVu Sans Mono',consolas,'Courier New',monospace\"><span style=\"color: #000080; text-decoration-color: #000080; font-weight: bold\">Monitoring status of model training</span><span style=\"color: #808000; text-decoration-color: #808000; font-weight: bold\">...</span>\n",
       "</pre>\n"
      ],
      "text/plain": [
       "\u001b[1;34mMonitoring status of model training\u001b[0m\u001b[1;33m...\u001b[0m\n"
      ]
     },
     "metadata": {},
     "output_type": "display_data"
    },
    {
     "data": {
      "text/html": [
       "<pre style=\"white-space:pre;overflow-x:auto;line-height:normal;font-family:Menlo,'DejaVu Sans Mono',consolas,'Courier New',monospace\"><span style=\"color: #000080; text-decoration-color: #000080; font-weight: bold\">Compute summary:</span>\n",
       "</pre>\n"
      ],
      "text/plain": [
       "\u001b[1;34mCompute summary:\u001b[0m\n"
      ]
     },
     "metadata": {},
     "output_type": "display_data"
    },
    {
     "data": {
      "text/html": [
       "<pre style=\"white-space:pre;overflow-x:auto;line-height:normal;font-family:Menlo,'DejaVu Sans Mono',consolas,'Courier New',monospace\"><span style=\"color: #000080; text-decoration-color: #000080; font-weight: bold\">  * A10G </span><span style=\"color: #008080; text-decoration-color: #008080; font-weight: bold\">24</span><span style=\"color: #000080; text-decoration-color: #000080; font-weight: bold\"> GB x1 (x1)</span>\n",
       "</pre>\n"
      ],
      "text/plain": [
       "\u001b[1;34m  * A10G \u001b[0m\u001b[1;36m24\u001b[0m\u001b[1;34m GB x1 \u001b[0m\u001b[1;34m(\u001b[0m\u001b[1;34mx1\u001b[0m\u001b[1;34m)\u001b[0m\n"
      ]
     },
     "metadata": {},
     "output_type": "display_data"
    },
    {
     "name": "stderr",
     "output_type": "stream",
     "text": [
      "✓ Queued 0:00:31   \n",
      "✓ Preprocessing 0:00:23   \n",
      "                                    \r"
     ]
    },
    {
     "name": "stdout",
     "output_type": "stream",
     "text": [
      "┌──────────┬──────────┬──────────────────┬──────────────────────────┬──────────┬──────────┬──────────┐\n",
      "│  epochs  \u001b[0m│   time   \u001b[0m│     feature      \u001b[0m│          metric          \u001b[0m│  train   \u001b[0m│   val    \u001b[0m│   test   \u001b[0m│\n",
      "├──────────┼──────────┼──────────────────┼──────────────────────────┼──────────┼──────────┼──────────┤\n",
      "│ 744/5241 steps ■■■■■■■■■■■■□□□□□□□□□□□□□□□□□□□□□□□□□□□□□□□□□□□□□□□□□□□□□□□□□□□□□□□□□□□□□□□□□□□□□□□ │"
     ]
    }
   ],
   "source": [
    "# Specifies the Huggingface LLM you want to fine-tune\n",
    "# Kick off a fine-tuning job on the uploaded dataset\n",
    "llm = pc.LLM(\"hf://meta-llama/Llama-2-7b-hf\")\n",
    "job = llm.finetune(\n",
    "    prompt_template=prompt_template,\n",
    "    target=\"output\",\n",
    "    dataset=dataset,\n",
    ")\n",
    "\n",
    "# Wait for the job to finish and get training updates and metrics\n",
    "model = job.get()"
   ]
  },
  {
   "cell_type": "markdown",
   "id": "c79fe236-c0f0-4567-a01b-77b305011362",
   "metadata": {},
   "source": [
    "#### Load new model with adapter\n",
    "\n",
    "Wait for the model to have finished training in the previous step before setting up the deployment. "
   ]
  },
  {
   "cell_type": "code",
   "execution_count": null,
   "id": "359ab838-7c89-4af9-9b1d-251740d41680",
   "metadata": {},
   "outputs": [],
   "source": [
    "base_deployment = pc.LLM(\"pb://deployments/llama-2-7b\")\n",
    "\n",
    "# Set the adapapter to our newly fine tuned model\n",
    "adapter_deployment = base_deployment.with_adapter(model)"
   ]
  },
  {
   "cell_type": "markdown",
   "id": "ce38caeb-7138-433c-8312-c428bed04c72",
   "metadata": {},
   "source": [
    "#### Test the new model "
   ]
  },
  {
   "cell_type": "code",
   "execution_count": null,
   "id": "d1802618-63f1-4e91-91ff-1b79adbfe10a",
   "metadata": {},
   "outputs": [],
   "source": [
    "# introspect schema from neo4j\n",
    "query = \"CALL apoc.meta.graph()\"\n",
    "meta_graph = execute_query(driver, query)\n",
    "meta_graph_str = json.dumps(meta_graph)\n",
    "\n",
    "result = adapter_deployment.prompt(\n",
    "    {\n",
    "      \"instruction\": f\"Given this schema, write a Cypher query that returns the data I am looking for. Schema:  {meta_graph_str}\",\n",
    "      \"input\": \"I am neo4j. Find the hashtags used in my tweets that have the most favourites.\"\n",
    "    },\n",
    "    max_new_tokens=256)"
   ]
  },
  {
   "cell_type": "markdown",
   "id": "72c36839-bd97-4890-b4b6-01dc0896f99c",
   "metadata": {},
   "source": [
    "#### Deploy new model "
   ]
  },
  {
   "cell_type": "code",
   "execution_count": null,
   "id": "e8e07d14-4f61-41ed-9108-06c53e057e05",
   "metadata": {},
   "outputs": [],
   "source": [
    "finetuned_llm = model.deploy(\"llama-2-7b\").get()"
   ]
  },
  {
   "cell_type": "markdown",
   "id": "5bfe371c",
   "metadata": {},
   "source": [
    "If you have already fine tuned the model and want to use it for prompts: \n",
    "- Comment out the above \n",
    "- Uncomment the below "
   ]
  },
  {
   "cell_type": "code",
   "execution_count": null,
   "id": "a7ec6e17",
   "metadata": {},
   "outputs": [],
   "source": [
    "# Specify the adapter to use, which is the model you have already fine-tuned.\n",
    "model = pc.get_model(\"Llama-2-7b-hf-code_alpaca_800\")\n",
    "adapter_deployment = base_deployment.with_adapter(model)"
   ]
  },
  {
   "cell_type": "markdown",
   "id": "80d179a6-7477-426b-9a9c-1cfd7289da36",
   "metadata": {},
   "source": [
    "#### Test newly deployed model"
   ]
  },
  {
   "cell_type": "code",
   "execution_count": null,
   "id": "430d8efe-181d-4b31-860c-6bd52c2c96af",
   "metadata": {},
   "outputs": [],
   "source": [
    "result = finetuned_llm.prompt(\n",
    "    {\n",
    "        \"instruction\": f\"Given this schema, write a Cypher query that returns the data I am looking for.  Schema:  {meta_graph_str}\",\n",
    "      \"input\": \"I am neo4j. How many of my tweets did 'nsmith_piano' reply to?\"\n",
    "    },\n",
    "    max_new_tokens=256)\n",
    "\n",
    "print(result.response)"
   ]
  },
  {
   "cell_type": "markdown",
   "id": "e3f3ebd7-fc22-4813-9bff-105d658cf521",
   "metadata": {},
   "source": [
    "#### Call Neo4J with the query"
   ]
  },
  {
   "cell_type": "code",
   "execution_count": null,
   "id": "bf15e5c5-0069-477c-9a7c-b2763e410ac2",
   "metadata": {},
   "outputs": [],
   "source": [
    "neo4j_result = execute_query(driver, query)\n",
    "\n",
    "print(neo4j_result)"
   ]
  }
 ],
 "metadata": {
  "kernelspec": {
   "display_name": "Python 3 (ipykernel)",
   "language": "python",
   "name": "python3"
  },
  "language_info": {
   "codemirror_mode": {
    "name": "ipython",
    "version": 3
   },
   "file_extension": ".py",
   "mimetype": "text/x-python",
   "name": "python",
   "nbconvert_exporter": "python",
   "pygments_lexer": "ipython3",
   "version": "3.12.2"
  }
 },
 "nbformat": 4,
 "nbformat_minor": 5
}
