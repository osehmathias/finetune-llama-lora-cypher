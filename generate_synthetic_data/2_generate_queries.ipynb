{
 "cells": [
  {
   "cell_type": "code",
   "execution_count": null,
   "id": "6751ab93-479f-4a3c-b5d4-c87007ed67e7",
   "metadata": {},
   "outputs": [],
   "source": [
    "import csv\n",
    "import os\n",
    "import json\n",
    "from openai import OpenAI\n",
    "from neo4j import GraphDatabase, RoutingControl\n",
    "from predibase import PredibaseClient"
   ]
  },
  {
   "cell_type": "code",
   "execution_count": null,
   "id": "737d3d31-02cc-49d3-bf41-3bb5c521cb69",
   "metadata": {},
   "outputs": [],
   "source": [
    "neo4j_uri = os.environ.get('NEO4J_URI')\n",
    "neo4j_username = os.environ.get('NEO4J_USERNAME')\n",
    "neo4j_password = os.environ.get('NEO4J_PASSWORD')\n",
    "neo4j_auth =  (neo4j_username, neo4j_password)"
   ]
  },
  {
   "cell_type": "code",
   "execution_count": null,
   "id": "14c7fab0-7780-4fa2-9776-ed4e86b88e37",
   "metadata": {},
   "outputs": [],
   "source": [
    "open_ai_api_key = os.environ.get('OPENAI_API_KEY')"
   ]
  },
  {
   "cell_type": "code",
   "execution_count": null,
   "id": "b7c3e739-3de9-4028-a387-db789d1c4c3c",
   "metadata": {},
   "outputs": [],
   "source": [
    "client = OpenAI(api_key=open_ai_api_key)"
   ]
  },
  {
   "cell_type": "code",
   "execution_count": null,
   "id": "ac5019d9-a400-4a66-8f8b-42d4ba0ae2bc",
   "metadata": {},
   "outputs": [],
   "source": [
    "pc = PredibaseClient()\n",
    "driver = GraphDatabase.driver(neo4j_uri, auth=(neo4j_auth))"
   ]
  },
  {
   "cell_type": "code",
   "execution_count": null,
   "id": "1693c761-4b0b-4fce-88ae-ae2ef7a8f573",
   "metadata": {},
   "outputs": [],
   "source": [
    "# helper function to execute the predibase driver\n",
    "\n",
    "def execute_query(driver, query):\n",
    "    with driver.session() as session:\n",
    "        def _execute(tx):\n",
    "            result = tx.run(query)\n",
    "            return [record.data() for record in result]\n",
    "        return session.execute_read(_execute)"
   ]
  },
  {
   "cell_type": "markdown",
   "id": "66f20513-4f6c-4249-9589-eb40ce297268",
   "metadata": {},
   "source": [
    "#### Load the questions file and write a query for each question"
   ]
  },
  {
   "cell_type": "code",
   "execution_count": null,
   "id": "1102e966-68f0-45d7-9e6e-39cfbf49d91d",
   "metadata": {},
   "outputs": [],
   "source": [
    "# The database schema description\n",
    "query = \"CALL apoc.meta.graph()\"\n",
    "meta_graph = execute_query(driver, query)\n",
    "meta_graph_str = json.dumps(meta_graph)"
   ]
  },
  {
   "cell_type": "code",
   "execution_count": null,
   "id": "f8aa0946-3397-4f33-acb8-e369933007ea",
   "metadata": {},
   "outputs": [],
   "source": [
    "def generate_cypher_query(question):\n",
    "    \"\"\"\n",
    "    Generate a Cypher query for a given question using OpenAI's API.\n",
    "    \"\"\"\n",
    "    prompt = f\"Given the schema: {meta_graph_str}, and the question: '{question}', write a Cypher query to answer the question.\"\n",
    "    \n",
    "    response = client.chat.completions.create(\n",
    "        model=\"gpt-4\",\n",
    "        messages=[\n",
    "            {\"role\": \"system\", \"content\": \"You are a software engineer trained in writing Cypher queries for Neo4j.\"},\n",
    "            {\"role\": \"user\", \"content\": prompt}\n",
    "        ]\n",
    "    )\n",
    "    \n",
    "    if response.choices:\n",
    "        cypher_query = response.choices[0].message.content\n",
    "        return cypher_query.strip()\n",
    "    else:\n",
    "        return \"Query generation failed.\""
   ]
  },
  {
   "cell_type": "code",
   "execution_count": null,
   "id": "f69bf3ab-7f7d-4d6d-8e82-ad78695c44e1",
   "metadata": {},
   "outputs": [],
   "source": [
    "def process_questions_csv(input_csv, output_csv):\n",
    "    \"\"\"\n",
    "    Read questions from input_csv, generate Cypher queries, save to output_csv,\n",
    "    and preview the first 5 rows before saving.\n",
    "    \"\"\"\n",
    "    rows = []  # A list to store the generated rows\n",
    "    with open(input_csv, 'r', encoding='utf-8') as infile:\n",
    "        reader = csv.reader(infile)\n",
    "        header = next(reader)  # Skip header row\n",
    "        for row in reader:\n",
    "            question = row[0]\n",
    "            cypher_query = generate_cypher_query(question)\n",
    "            rows.append([question, cypher_query])\n",
    "            \n",
    "    # Preview the first 5 rows\n",
    "    print(\"Preview of the first 5 rows:\")\n",
    "    for row in rows[:5]:\n",
    "        print(row)\n",
    "    \n",
    "    # Ask for confirmation to save to CSV\n",
    "    confirmation = input(\"Proceed to save the output to CSV? (yes/no): \")\n",
    "    if confirmation.lower() == \"yes\":\n",
    "        with open(output_csv, 'w', newline='', encoding='utf-8') as outfile:\n",
    "            writer = csv.writer(outfile)\n",
    "            writer.writerow(['Input', 'Output'])  # Writing header for the output CSV\n",
    "            writer.writerows(rows)  # Writing all generated rows\n",
    "            print(f\"Processed questions and generated queries have been saved to {output_csv}\")\n",
    "    else:\n",
    "        print(\"Operation cancelled. The output was not saved.\")\n"
   ]
  },
  {
   "cell_type": "code",
   "execution_count": null,
   "id": "6ee8d9cb-2eab-48a6-80bd-3a4bb27bb39a",
   "metadata": {},
   "outputs": [],
   "source": [
    "# Path to the input CSV file containing questions\n",
    "input_csv_path = 'questions.csv'\n",
    "# Path to the output CSV file to save questions and their corresponding Cypher queries\n",
    "output_csv_path = 'questions_with_queries.csv'\n",
    "\n",
    "# Execute the process\n",
    "process_questions_csv(input_csv_path, output_csv_path)"
   ]
  }
 ],
 "metadata": {
  "kernelspec": {
   "display_name": "Python 3 (ipykernel)",
   "language": "python",
   "name": "python3"
  },
  "language_info": {
   "codemirror_mode": {
    "name": "ipython",
    "version": 3
   },
   "file_extension": ".py",
   "mimetype": "text/x-python",
   "name": "python",
   "nbconvert_exporter": "python",
   "pygments_lexer": "ipython3",
   "version": "3.12.2"
  }
 },
 "nbformat": 4,
 "nbformat_minor": 5
}
