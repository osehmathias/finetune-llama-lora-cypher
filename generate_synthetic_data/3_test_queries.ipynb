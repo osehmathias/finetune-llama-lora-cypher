{
 "cells": [
  {
   "cell_type": "code",
   "execution_count": null,
   "id": "22e2944d-c5be-48b5-9124-b8e9f5ac4d03",
   "metadata": {},
   "outputs": [],
   "source": [
    "import csv\n",
    "import os\n",
    "from neo4j import GraphDatabase\n",
    "from predibase import PredibaseClient"
   ]
  },
  {
   "cell_type": "code",
   "execution_count": null,
   "id": "73cba2dd-5329-4cbe-9620-32b5b347a983",
   "metadata": {},
   "outputs": [],
   "source": [
    "neo4j_uri = os.environ.get('NEO4J_URI')\n",
    "neo4j_username = os.environ.get('NEO4J_USERNAME')\n",
    "neo4j_password = os.environ.get('NEO4J_PASSWORD')\n",
    "neo4j_auth =  (neo4j_username, neo4j_password)"
   ]
  },
  {
   "cell_type": "code",
   "execution_count": null,
   "id": "b50ff7f2-a121-4cd8-b109-2cea3752faaa",
   "metadata": {},
   "outputs": [],
   "source": [
    "pc = PredibaseClient()\n",
    "driver = GraphDatabase.driver(neo4j_uri, auth=(neo4j_auth))"
   ]
  },
  {
   "cell_type": "markdown",
   "id": "71a4bf3a",
   "metadata": {},
   "source": []
  },
  {
   "cell_type": "code",
   "execution_count": null,
   "id": "8ac91fd2-e47d-4fd3-9497-6437677bad2a",
   "metadata": {},
   "outputs": [],
   "source": [
    "# helper function to execute the predibase driver\n",
    "\n",
    "def execute_query(driver, query):\n",
    "    with driver.session() as session:\n",
    "        def _execute(tx):\n",
    "            result = tx.run(query)\n",
    "            return [record for record in result]\n",
    "        return session.execute_read(_execute)"
   ]
  },
  {
   "cell_type": "markdown",
   "id": "40b9ddb3-8992-4c44-a2de-7ed1331da665",
   "metadata": {},
   "source": [
    "#### Test queries in CSV on DB, sort into status"
   ]
  },
  {
   "cell_type": "code",
   "execution_count": null,
   "id": "48b5eda8-3391-4a50-8349-fbd2ed4c5b5e",
   "metadata": {},
   "outputs": [],
   "source": [
    "\n",
    "def save_to_csv(filename, data, headers):\n",
    "    with open(filename, 'w', newline='', encoding='utf-8') as file:\n",
    "        writer = csv.writer(file)\n",
    "        writer.writerow(headers)\n",
    "        for row in data:\n",
    "            writer.writerow(row)"
   ]
  },
  {
   "cell_type": "code",
   "execution_count": null,
   "id": "5105b81e-bf0b-48b0-a7a3-1874f72d470f",
   "metadata": {},
   "outputs": [],
   "source": [
    "def execute_and_classify_queries(input_csv, driver):\n",
    "    queries_with_errors = []\n",
    "    queries_with_no_data = []\n",
    "    queries_with_data = []\n",
    "\n",
    "    with open(input_csv, 'r', encoding='utf-8') as csvfile:\n",
    "        reader = csv.DictReader(csvfile)\n",
    "        for row in reader:\n",
    "            query = row['Output']  # Assuming 'Output' column has the queries\n",
    "            try:\n",
    "                result = execute_query(driver, query)\n",
    "                if result:\n",
    "                    queries_with_data.append((row['Input'], query, result))\n",
    "                else:\n",
    "                    queries_with_no_data.append((row['Input'], query))\n",
    "            except Exception as e:\n",
    "                queries_with_errors.append((row['Input'], query, str(e)))\n",
    "\n",
    "    # Save to CSVs\n",
    "    save_to_csv('error.csv', queries_with_errors, ['Question', 'Query', 'Error'])\n",
    "    save_to_csv('no_data.csv', queries_with_no_data, ['Question', 'Query'])\n",
    "    save_to_csv('clean.csv', queries_with_data, ['Question', 'Query', 'Result'])"
   ]
  },
  {
   "cell_type": "code",
   "execution_count": null,
   "id": "1e242ef9",
   "metadata": {},
   "outputs": [],
   "source": [
    "# Replace 'your_input_csv.csv' with the path to your input CSV file containing questions and queries\n",
    "execute_and_classify_queries('your_input_csv.csv', driver)"
   ]
  }
 ],
 "metadata": {
  "kernelspec": {
   "display_name": "Python 3 (ipykernel)",
   "language": "python",
   "name": "python3"
  },
  "language_info": {
   "codemirror_mode": {
    "name": "ipython",
    "version": 3
   },
   "file_extension": ".py",
   "mimetype": "text/x-python",
   "name": "python",
   "nbconvert_exporter": "python",
   "pygments_lexer": "ipython3",
   "version": "3.12.2"
  }
 },
 "nbformat": 4,
 "nbformat_minor": 5
}
