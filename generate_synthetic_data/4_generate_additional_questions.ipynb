{
 "cells": [
  {
   "cell_type": "code",
   "execution_count": null,
   "id": "ec117d0b-a7b7-41b9-b06e-663810482ea5",
   "metadata": {},
   "outputs": [],
   "source": [
    "import csv\n",
    "import os\n",
    "from openai import OpenAI"
   ]
  },
  {
   "cell_type": "code",
   "execution_count": null,
   "id": "2ad9f8e8-febb-4bea-82b6-cba4b3373ed9",
   "metadata": {},
   "outputs": [],
   "source": [
    "neo4j_uri = os.environ.get('NEO4J_URI')\n",
    "neo4j_username = os.environ.get('NEO4J_USERNAME')\n",
    "neo4j_password = os.environ.get('NEO4J_PASSWORD')\n",
    "neo4j_auth =  (neo4j_username, neo4j_password)"
   ]
  },
  {
   "cell_type": "code",
   "execution_count": null,
   "id": "09c98bce",
   "metadata": {},
   "outputs": [],
   "source": [
    "open_ai_api_key = os.environ.get('OPENAI_API_KEY')"
   ]
  },
  {
   "cell_type": "code",
   "execution_count": null,
   "id": "ac13d4be",
   "metadata": {},
   "outputs": [],
   "source": [
    "client = OpenAI(api_key=open_ai_api_key)"
   ]
  },
  {
   "cell_type": "markdown",
   "id": "86572aa1-24f3-491c-8728-1eb77e2c9c00",
   "metadata": {},
   "source": [
    "#### Load questions and queries, create 10 questions for each query\n"
   ]
  },
  {
   "cell_type": "code",
   "execution_count": null,
   "id": "2b1052d4-dba8-467d-981e-c4f858c40264",
   "metadata": {},
   "outputs": [],
   "source": [
    "def load_csv_and_generate_questions(input_csv):\n",
    "    generated_questions = []\n",
    "\n",
    "    with open(input_csv, 'r', encoding='utf-8') as csvfile:\n",
    "        reader = csv.DictReader(csvfile)\n",
    "        for row in reader:\n",
    "            original_question = row['Input']\n",
    "            cypher_query = row['Output']\n",
    "            additional_questions = generate_more_questions(original_question, cypher_query)\n",
    "            generated_questions.extend(additional_questions)\n",
    "\n",
    "    # Save the generated questions to a new CSV\n",
    "    save_to_csv('generated_questions.csv', generated_questions, ['Generated Question'])\n",
    "    \n",
    "def load_csv_and_generate_questions(input_csv):\n",
    "    generated_questions = []\n",
    "\n",
    "    with open(input_csv, 'r', encoding='utf-8') as csvfile:\n",
    "        reader = csv.DictReader(csvfile)\n",
    "        for row in reader:\n",
    "            original_question = row['Input']\n",
    "            cypher_query = row['Output']\n",
    "            additional_questions = generate_more_questions(original_question, cypher_query)\n",
    "            generated_questions.extend(additional_questions)\n",
    "\n",
    "    # Save the generated questions to a new CSV\n",
    "    save_to_csv('generated_questions.csv', generated_questions, ['Generated Question'])\n",
    "\n",
    "def generate_more_questions(original_question, cypher_query):\n",
    "    \"\"\"\n",
    "    Generate 10 more questions for the given original question that would lead to the same Cypher query.\n",
    "    \"\"\"\n",
    "    prompt = f\"Given the Cypher query: {cypher_query}. Generate 10 different natural language questions that would result in this Cypher query. The original question is: {original_question}.\"\n",
    "    \n",
    "    try:\n",
    "        response = client.chat.completions.create(\n",
    "            engine=\"gpt-4\",\n",
    "            prompt=prompt,\n",
    "            temperature=0.7,\n",
    "            max_tokens=150,\n",
    "            n=1,  # Generate 1 set of 10 questions as a single response\n",
    "            stop=\"\\n\"\n",
    "        )\n",
    "        questions_text = response.choices[0].text.strip()\n",
    "        # Split the generated text into individual questions\n",
    "        additional_questions = [question.strip() for question in questions_text.split('\\n') if question.strip()]\n",
    "        return additional_questions\n",
    "    except Exception as e:\n",
    "        print(f\"Error generating questions for query: {cypher_query} - {e}\")\n",
    "        return []\n",
    "\n",
    "def save_to_csv(filename, data, headers):\n",
    "    with open(filename, 'w', newline='', encoding='utf-8') as file:\n",
    "        writer = csv.writer(file)\n",
    "        writer.writerow(headers)\n",
    "        for item in data:\n",
    "            writer.writerow([item])\n",
    "\n",
    "# Replace 'input_questions_queries.csv' with the path to your CSV file\n",
    "load_csv_and_generate_questions('input_questions_queries.csv')"
   ]
  }
 ],
 "metadata": {
  "kernelspec": {
   "display_name": "Python 3 (ipykernel)",
   "language": "python",
   "name": "python3"
  },
  "language_info": {
   "codemirror_mode": {
    "name": "ipython",
    "version": 3
   },
   "file_extension": ".py",
   "mimetype": "text/x-python",
   "name": "python",
   "nbconvert_exporter": "python",
   "pygments_lexer": "ipython3",
   "version": "3.12.2"
  }
 },
 "nbformat": 4,
 "nbformat_minor": 5
}
