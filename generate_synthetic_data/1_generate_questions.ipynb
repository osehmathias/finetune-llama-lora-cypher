{
 "cells": [
  {
   "cell_type": "code",
   "execution_count": null,
   "id": "664d98bb-5ad7-42a1-acc7-cb794f7d8991",
   "metadata": {},
   "outputs": [],
   "source": [
    "import csv\n",
    "import os\n",
    "import json\n",
    "from openai import OpenAI\n",
    "from neo4j import GraphDatabase\n",
    "from predibase import PredibaseClient"
   ]
  },
  {
   "cell_type": "code",
   "execution_count": null,
   "id": "c0611032-b0ba-4455-a50e-c17de1a4bff3",
   "metadata": {},
   "outputs": [],
   "source": [
    "neo4j_uri = os.environ.get('NEO4J_URI')\n",
    "neo4j_username = os.environ.get('NEO4J_USERNAME')\n",
    "neo4j_password = os.environ.get('NEO4J_PASSWORD')\n",
    "neo4j_auth =  (neo4j_username, neo4j_password)"
   ]
  },
  {
   "cell_type": "code",
   "execution_count": null,
   "id": "ee2d21c0-4b1d-4e3b-af5d-c96c23c09861",
   "metadata": {},
   "outputs": [],
   "source": [
    "open_ai_api_key = os.environ.get('OPENAI_API_KEY')"
   ]
  },
  {
   "cell_type": "code",
   "execution_count": null,
   "id": "42981bf3-cca8-4a81-b84b-23293bb60eeb",
   "metadata": {},
   "outputs": [],
   "source": [
    "client = OpenAI(api_key=open_ai_api_key)"
   ]
  },
  {
   "cell_type": "code",
   "execution_count": null,
   "id": "3df184d7-3aa0-4151-b370-cd2b3c460392",
   "metadata": {},
   "outputs": [],
   "source": [
    "pc = PredibaseClient()\n",
    "driver = GraphDatabase.driver(neo4j_uri, auth=(neo4j_auth))"
   ]
  },
  {
   "cell_type": "code",
   "execution_count": null,
   "id": "e72bb6a5-8314-4890-8eb8-765adabb098b",
   "metadata": {},
   "outputs": [],
   "source": [
    "# helper function to execute the predibase driver\n",
    "\n",
    "def execute_query(driver, query):\n",
    "    with driver.session() as session:\n",
    "        def _execute(tx):\n",
    "            result = tx.run(query)\n",
    "            return [record.data() for record in result]\n",
    "        return session.execute_read(_execute)"
   ]
  },
  {
   "cell_type": "markdown",
   "id": "e60ca71f-6ef1-4e5b-b3db-b8ab0bda26de",
   "metadata": {},
   "source": [
    "#### Introspect the schema "
   ]
  },
  {
   "cell_type": "code",
   "execution_count": null,
   "id": "04f4848d-101a-4fb5-8d41-23da8aa7c6ab",
   "metadata": {},
   "outputs": [],
   "source": [
    "query = \"CALL apoc.meta.graph()\"\n",
    "meta_graph = execute_query(driver, query)\n",
    "meta_graph_str = json.dumps(meta_graph)"
   ]
  },
  {
   "cell_type": "markdown",
   "id": "308d3f40-c480-49b0-9d36-9395b08ef268",
   "metadata": {},
   "source": [
    "#### Create themes to generate questions around"
   ]
  },
  {
   "cell_type": "code",
   "execution_count": null,
   "id": "786cd3f3-7d40-4ade-8edd-69ada85772c2",
   "metadata": {},
   "outputs": [],
   "source": [
    "themes = {\n",
    "    'user_interactions': f\"Given the schema: {meta_graph_str}. Generate questions about a user's interactions on Twitter, focusing on followers, mutual follows, retweets, and mentions.\",\n",
    "    'tweet_content': f\"Given the schema: {meta_graph_str}. Generate questions about the content of tweets, including common words, hashtags, topics, and the most retweeted tweets.\"\n",
    "}"
   ]
  },
  {
   "cell_type": "markdown",
   "id": "62b25db9-b2f1-4adf-b3f5-47927975bf8e",
   "metadata": {},
   "source": [
    "#### Use OpenAI to generate questions"
   ]
  },
  {
   "cell_type": "code",
   "execution_count": null,
   "id": "848da0d8-696f-49de-b5de-ba4a00a3beed",
   "metadata": {},
   "outputs": [],
   "source": [
    "def openai_generate_questions(prompt, theme, num_questions=30):\n",
    "    \"\"\"\n",
    "    Generate questions using OpenAI based on a given prompt, adjusted to use chat.completions.\n",
    "    \"\"\"\n",
    "    response = client.chat.completions.create(\n",
    "      model=\"gpt-4\",\n",
    "       messages=[\n",
    "            {\"role\": \"system\", \"content\": \"You are a person writing questions that describe a Neo4j database.\"},\n",
    "            {\"role\": \"user\", \"content\": f\"Given the theme of '{theme}', {prompt} Create {num_questions} questions about this dataset.\"}\n",
    "        ]\n",
    "    )\n",
    "    print(response)\n",
    "     # Parsing response to extract questions\n",
    "    if response.choices:\n",
    "        response_content = response.choices[0].message['content']\n",
    "        questions = response_content.split('\\n')\n",
    "        return questions\n",
    "    else:\n",
    "        return [\"No questions generated.\"]"
   ]
  },
  {
   "cell_type": "code",
   "execution_count": 3,
   "id": "f2446e4b-6c06-4030-8a4e-56cba657a3ac",
   "metadata": {},
   "outputs": [],
   "source": [
    "def generate_questions_for_all_themes():\n",
    "    all_questions = []\n",
    "    \n",
    "    for theme, prompt in themes.items():\n",
    "        questions = openai_generate_questions(prompt, theme, 30)\n",
    "        all_questions.extend(questions)\n",
    "    \n",
    "    # Saving questions to a CSV file\n",
    "    with open('questions.csv', 'w', newline='', encoding='utf-8') as file:\n",
    "        writer = csv.writer(file)\n",
    "        writer.writerow([\"Question\"])\n",
    "        for question in all_questions:\n",
    "            writer.writerow([question])\n",
    "    \n",
    "    # Preview of questions and their count\n",
    "    print(f\"Total questions generated: {len(all_questions)}\")\n",
    "    print(\"Preview of generated questions:\")\n",
    "    for question in all_questions[:10]:  # Previewing the first 10 questions\n",
    "        print(question)"
   ]
  },
  {
   "cell_type": "code",
   "execution_count": null,
   "id": "6a53fac8-3a2d-46a5-b1d1-e7875caa656c",
   "metadata": {},
   "outputs": [],
   "source": [
    "# Execute the main function to generate questions and save to CSV\n",
    "generate_questions_for_all_themes()"
   ]
  }
 ],
 "metadata": {
  "kernelspec": {
   "display_name": "Python 3 (ipykernel)",
   "language": "python",
   "name": "python3"
  },
  "language_info": {
   "codemirror_mode": {
    "name": "ipython",
    "version": 3
   },
   "file_extension": ".py",
   "mimetype": "text/x-python",
   "name": "python",
   "nbconvert_exporter": "python",
   "pygments_lexer": "ipython3",
   "version": "3.12.2"
  }
 },
 "nbformat": 4,
 "nbformat_minor": 5
}
